{
 "cells": [
  {
   "cell_type": "markdown",
   "metadata": {
    "colab_type": "text",
    "id": "FzXvY2wSC0_G"
   },
   "source": [
    "### Crime Data Analysis"
   ]
  },
  {
   "cell_type": "markdown",
   "metadata": {
    "colab_type": "text",
    "id": "y_3NNsqfC0_I"
   },
   "source": [
    "##### Table of Contents\n",
    "\n",
    "[Objective](#ob)\n",
    "\n",
    "[Importing the data](#id)\n",
    "\n",
    "[Descriptive Statistics](#dd)\n",
    "\n",
    "[Elbow method to find best k](#em)\n",
    "\n",
    "[K-means Clustering](#kc)\n",
    "\n",
    "[Observations and Conclusions](#oc)"
   ]
  },
  {
   "cell_type": "markdown",
   "metadata": {
    "colab_type": "text",
    "id": "gU6fi-whC0_K"
   },
   "source": [
    "**Objective:**  <a name='ob'></a>\n",
    "Goal is to assign the instances of crime for the given year into certain groups using K-means algorithm & essentially suggest possible action for each cluster\n",
    "\n",
    "\n",
    "**Attribute Description:**\n",
    "\n",
    "1. Murder: (Numeric) Murder arrests (per 100,000) \n",
    "2. Assault: (Numeric) Assault arrests (per 100,000) \n",
    "3. Urban Population: (Numeric) Percent urban population \n",
    "4. Rape: (Numeric) Rape arrests (per 100,000) "
   ]
  },
  {
   "cell_type": "markdown",
   "metadata": {
    "colab_type": "text",
    "id": "OARnAL9gC0_L"
   },
   "source": [
    "**Importing the data** <a name='id'></a>"
   ]
  },
  {
   "cell_type": "code",
   "execution_count": 30,
   "metadata": {
    "colab": {
     "autoexec": {
      "startup": false,
      "wait_interval": 0
     }
    },
    "colab_type": "code",
    "collapsed": true,
    "id": "mH49D41tC0_N"
   },
   "outputs": [],
   "source": [
    "import numpy as np # linear algebra\n",
    "import pandas as pd # data processing, CSV file I/O (e.g. pd.read_csv)\n",
    "import os\n",
    "\n",
    "import seaborn as sns ### for visualizations\n",
    "import matplotlib.pyplot as plt\n",
    "%matplotlib inline\n",
    "\n",
    "from sklearn.model_selection import train_test_split\n",
    "from sklearn import preprocessing\n",
    "from sklearn.cluster import KMeans\n",
    "from sklearn import datasets, metrics, cluster, mixture  # For clustering "
   ]
  },
  {
   "cell_type": "code",
   "execution_count": 31,
   "metadata": {
    "colab": {
     "autoexec": {
      "startup": false,
      "wait_interval": 0
     },
     "base_uri": "https://localhost:8080/",
     "height": 34
    },
    "colab_type": "code",
    "executionInfo": {
     "elapsed": 1215,
     "status": "ok",
     "timestamp": 1531485157637,
     "user": {
      "displayName": "Rakesh Mondal",
      "photoUrl": "https://lh3.googleusercontent.com/a/default-user=s128",
      "userId": "104471974967231090859"
     },
     "user_tz": -330
    },
    "id": "94ByS6EeC0_V",
    "outputId": "7b685b69-a6c3-4056-b6db-cd7b02af6e8e"
   },
   "outputs": [
    {
     "name": "stdout",
     "output_type": "stream",
     "text": [
      "E:\\Tech UpX\\Kmeans\n"
     ]
    }
   ],
   "source": [
    "print(os.getcwd());#setting work directory"
   ]
  },
  {
   "cell_type": "code",
   "execution_count": 32,
   "metadata": {
    "colab": {
     "autoexec": {
      "startup": false,
      "wait_interval": 0
     }
    },
    "colab_type": "code",
    "collapsed": true,
    "id": "OECaE2yOC0_d"
   },
   "outputs": [],
   "source": [
    "cdata=pd.read_csv(\"crime_data1.csv\") #loading the data"
   ]
  },
  {
   "cell_type": "code",
   "execution_count": 33,
   "metadata": {
    "colab": {
     "autoexec": {
      "startup": false,
      "wait_interval": 0
     },
     "base_uri": "https://localhost:8080/",
     "height": 137
    },
    "colab_type": "code",
    "executionInfo": {
     "elapsed": 908,
     "status": "ok",
     "timestamp": 1531495364611,
     "user": {
      "displayName": "Rakesh Mondal",
      "photoUrl": "https://lh3.googleusercontent.com/a/default-user=s128",
      "userId": "104471974967231090859"
     },
     "user_tz": -330
    },
    "id": "6tGRzto1C0_j",
    "outputId": "f5cce6bb-0927-4300-c79c-79c5eb07fee7"
   },
   "outputs": [
    {
     "data": {
      "text/html": [
       "<div>\n",
       "<style>\n",
       "    .dataframe thead tr:only-child th {\n",
       "        text-align: right;\n",
       "    }\n",
       "\n",
       "    .dataframe thead th {\n",
       "        text-align: left;\n",
       "    }\n",
       "\n",
       "    .dataframe tbody tr th {\n",
       "        vertical-align: top;\n",
       "    }\n",
       "</style>\n",
       "<table border=\"1\" class=\"dataframe\">\n",
       "  <thead>\n",
       "    <tr style=\"text-align: right;\">\n",
       "      <th></th>\n",
       "      <th>State</th>\n",
       "      <th>Murder</th>\n",
       "      <th>Assault</th>\n",
       "      <th>UrbanPop</th>\n",
       "      <th>Rape</th>\n",
       "    </tr>\n",
       "  </thead>\n",
       "  <tbody>\n",
       "    <tr>\n",
       "      <th>0</th>\n",
       "      <td>Alabama</td>\n",
       "      <td>13.2</td>\n",
       "      <td>236.0</td>\n",
       "      <td>58.0</td>\n",
       "      <td>21.2</td>\n",
       "    </tr>\n",
       "    <tr>\n",
       "      <th>1</th>\n",
       "      <td>Alaska</td>\n",
       "      <td>10.0</td>\n",
       "      <td>NaN</td>\n",
       "      <td>48.0</td>\n",
       "      <td>44.5</td>\n",
       "    </tr>\n",
       "    <tr>\n",
       "      <th>2</th>\n",
       "      <td>Arizona</td>\n",
       "      <td>8.1</td>\n",
       "      <td>294.0</td>\n",
       "      <td>80.0</td>\n",
       "      <td>31.0</td>\n",
       "    </tr>\n",
       "  </tbody>\n",
       "</table>\n",
       "</div>"
      ],
      "text/plain": [
       "     State  Murder  Assault  UrbanPop  Rape\n",
       "0  Alabama    13.2    236.0      58.0  21.2\n",
       "1   Alaska    10.0      NaN      48.0  44.5\n",
       "2  Arizona     8.1    294.0      80.0  31.0"
      ]
     },
     "execution_count": 33,
     "metadata": {},
     "output_type": "execute_result"
    }
   ],
   "source": [
    "cdata.head(3)"
   ]
  },
  {
   "cell_type": "markdown",
   "metadata": {
    "colab_type": "text",
    "id": "pq70xsGoC0_p"
   },
   "source": [
    "Top 3 rows of the dataset<br/>\n",
    "Missing values are denoted as NaN"
   ]
  },
  {
   "cell_type": "markdown",
   "metadata": {},
   "source": [
    "**Descriptive Statistics**<a name='dd'></a>"
   ]
  },
  {
   "cell_type": "code",
   "execution_count": 34,
   "metadata": {
    "colab": {
     "autoexec": {
      "startup": false,
      "wait_interval": 0
     },
     "base_uri": "https://localhost:8080/",
     "height": 287
    },
    "colab_type": "code",
    "executionInfo": {
     "elapsed": 936,
     "status": "ok",
     "timestamp": 1531495365713,
     "user": {
      "displayName": "Rakesh Mondal",
      "photoUrl": "https://lh3.googleusercontent.com/a/default-user=s128",
      "userId": "104471974967231090859"
     },
     "user_tz": -330
    },
    "id": "QhENiibiC0_q",
    "outputId": "1830f9aa-66d3-47fe-de7d-67230e21b236"
   },
   "outputs": [
    {
     "data": {
      "text/html": [
       "<div>\n",
       "<style>\n",
       "    .dataframe thead tr:only-child th {\n",
       "        text-align: right;\n",
       "    }\n",
       "\n",
       "    .dataframe thead th {\n",
       "        text-align: left;\n",
       "    }\n",
       "\n",
       "    .dataframe tbody tr th {\n",
       "        vertical-align: top;\n",
       "    }\n",
       "</style>\n",
       "<table border=\"1\" class=\"dataframe\">\n",
       "  <thead>\n",
       "    <tr style=\"text-align: right;\">\n",
       "      <th></th>\n",
       "      <th>Murder</th>\n",
       "      <th>Assault</th>\n",
       "      <th>UrbanPop</th>\n",
       "      <th>Rape</th>\n",
       "    </tr>\n",
       "  </thead>\n",
       "  <tbody>\n",
       "    <tr>\n",
       "      <th>count</th>\n",
       "      <td>48.000000</td>\n",
       "      <td>47.000000</td>\n",
       "      <td>46.000000</td>\n",
       "      <td>47.000000</td>\n",
       "    </tr>\n",
       "    <tr>\n",
       "      <th>mean</th>\n",
       "      <td>7.787500</td>\n",
       "      <td>166.276596</td>\n",
       "      <td>65.565217</td>\n",
       "      <td>21.112766</td>\n",
       "    </tr>\n",
       "    <tr>\n",
       "      <th>std</th>\n",
       "      <td>4.429909</td>\n",
       "      <td>83.811305</td>\n",
       "      <td>14.617573</td>\n",
       "      <td>9.634102</td>\n",
       "    </tr>\n",
       "    <tr>\n",
       "      <th>min</th>\n",
       "      <td>0.800000</td>\n",
       "      <td>45.000000</td>\n",
       "      <td>32.000000</td>\n",
       "      <td>7.300000</td>\n",
       "    </tr>\n",
       "    <tr>\n",
       "      <th>25%</th>\n",
       "      <td>3.950000</td>\n",
       "      <td>107.500000</td>\n",
       "      <td>54.500000</td>\n",
       "      <td>14.900000</td>\n",
       "    </tr>\n",
       "    <tr>\n",
       "      <th>50%</th>\n",
       "      <td>7.250000</td>\n",
       "      <td>156.000000</td>\n",
       "      <td>66.500000</td>\n",
       "      <td>19.500000</td>\n",
       "    </tr>\n",
       "    <tr>\n",
       "      <th>75%</th>\n",
       "      <td>11.325000</td>\n",
       "      <td>243.500000</td>\n",
       "      <td>77.750000</td>\n",
       "      <td>26.500000</td>\n",
       "    </tr>\n",
       "    <tr>\n",
       "      <th>max</th>\n",
       "      <td>17.400000</td>\n",
       "      <td>337.000000</td>\n",
       "      <td>91.000000</td>\n",
       "      <td>46.000000</td>\n",
       "    </tr>\n",
       "  </tbody>\n",
       "</table>\n",
       "</div>"
      ],
      "text/plain": [
       "          Murder     Assault   UrbanPop       Rape\n",
       "count  48.000000   47.000000  46.000000  47.000000\n",
       "mean    7.787500  166.276596  65.565217  21.112766\n",
       "std     4.429909   83.811305  14.617573   9.634102\n",
       "min     0.800000   45.000000  32.000000   7.300000\n",
       "25%     3.950000  107.500000  54.500000  14.900000\n",
       "50%     7.250000  156.000000  66.500000  19.500000\n",
       "75%    11.325000  243.500000  77.750000  26.500000\n",
       "max    17.400000  337.000000  91.000000  46.000000"
      ]
     },
     "execution_count": 34,
     "metadata": {},
     "output_type": "execute_result"
    }
   ],
   "source": [
    "cdata.describe()"
   ]
  },
  {
   "cell_type": "markdown",
   "metadata": {
    "colab_type": "text",
    "id": "NU177EdMC0_x"
   },
   "source": [
    "Range is high<br/>\n",
    "Missing values are there"
   ]
  },
  {
   "cell_type": "code",
   "execution_count": 35,
   "metadata": {
    "colab": {
     "autoexec": {
      "startup": false,
      "wait_interval": 0
     },
     "base_uri": "https://localhost:8080/",
     "height": 194
    },
    "colab_type": "code",
    "executionInfo": {
     "elapsed": 1146,
     "status": "ok",
     "timestamp": 1531495368725,
     "user": {
      "displayName": "Rakesh Mondal",
      "photoUrl": "https://lh3.googleusercontent.com/a/default-user=s128",
      "userId": "104471974967231090859"
     },
     "user_tz": -330
    },
    "id": "DkpQtOQHC0_z",
    "outputId": "f1d7f733-ee78-47d2-bc38-5c1fb2a7828c"
   },
   "outputs": [
    {
     "name": "stdout",
     "output_type": "stream",
     "text": [
      "<class 'pandas.core.frame.DataFrame'>\n",
      "RangeIndex: 50 entries, 0 to 49\n",
      "Data columns (total 5 columns):\n",
      "State       50 non-null object\n",
      "Murder      48 non-null float64\n",
      "Assault     47 non-null float64\n",
      "UrbanPop    46 non-null float64\n",
      "Rape        47 non-null float64\n",
      "dtypes: float64(4), object(1)\n",
      "memory usage: 2.0+ KB\n"
     ]
    }
   ],
   "source": [
    "cdata.info()"
   ]
  },
  {
   "cell_type": "markdown",
   "metadata": {
    "colab_type": "text",
    "id": "8SnlE_hjC0_6"
   },
   "source": [
    "**No of Rows:** 50 <br/>\n",
    "**No of Columns:** 5 <br/>\n",
    "\n",
    "**Observations:** There are missing values in all columns except State. 2 missing values in Murder Column, 3 in Assualt Column, 4 in UrbanPop column and finally 3 values missing in Rape column"
   ]
  },
  {
   "cell_type": "markdown",
   "metadata": {
    "colab_type": "text",
    "id": "ohmlMYm8C0_7"
   },
   "source": [
    "#### Missing values"
   ]
  },
  {
   "cell_type": "code",
   "execution_count": 36,
   "metadata": {
    "colab": {
     "autoexec": {
      "startup": false,
      "wait_interval": 0
     },
     "base_uri": "https://localhost:8080/",
     "height": 123
    },
    "colab_type": "code",
    "executionInfo": {
     "elapsed": 940,
     "status": "ok",
     "timestamp": 1531495373498,
     "user": {
      "displayName": "Rakesh Mondal",
      "photoUrl": "https://lh3.googleusercontent.com/a/default-user=s128",
      "userId": "104471974967231090859"
     },
     "user_tz": -330
    },
    "id": "hfVJD9PtC0_9",
    "outputId": "ca8257bb-3aa6-4c31-96de-499be00f457d"
   },
   "outputs": [
    {
     "data": {
      "text/plain": [
       "State       0\n",
       "Murder      2\n",
       "Assault     3\n",
       "UrbanPop    4\n",
       "Rape        3\n",
       "dtype: int64"
      ]
     },
     "execution_count": 36,
     "metadata": {},
     "output_type": "execute_result"
    }
   ],
   "source": [
    "cdata.isnull().sum()"
   ]
  },
  {
   "cell_type": "markdown",
   "metadata": {},
   "source": [
    "**Imputing missing values**"
   ]
  },
  {
   "cell_type": "code",
   "execution_count": 37,
   "metadata": {
    "colab": {
     "autoexec": {
      "startup": false,
      "wait_interval": 0
     }
    },
    "colab_type": "code",
    "collapsed": true,
    "id": "XZoZ56HHKhyc"
   },
   "outputs": [],
   "source": [
    "crime_data=cdata.fillna(cdata.mean())"
   ]
  },
  {
   "cell_type": "code",
   "execution_count": 38,
   "metadata": {
    "colab": {
     "autoexec": {
      "startup": false,
      "wait_interval": 0
     },
     "base_uri": "https://localhost:8080/",
     "height": 425
    },
    "colab_type": "code",
    "executionInfo": {
     "elapsed": 944,
     "status": "ok",
     "timestamp": 1531495480559,
     "user": {
      "displayName": "Rakesh Mondal",
      "photoUrl": "https://lh3.googleusercontent.com/a/default-user=s128",
      "userId": "104471974967231090859"
     },
     "user_tz": -330
    },
    "id": "ylXcE0V7FxOI",
    "outputId": "67449394-6b31-49b4-feb5-b945a86d3e35"
   },
   "outputs": [
    {
     "name": "stdout",
     "output_type": "stream",
     "text": [
      "        State  Murder  Assault  UrbanPop  Rape\n",
      "0     Alabama    13.2    236.0      58.0  21.2\n",
      "1      Alaska    10.0      NaN      48.0  44.5\n",
      "2     Arizona     8.1    294.0      80.0  31.0\n",
      "3    Arkansas     8.8    190.0       NaN  19.5\n",
      "4  California     9.0    276.0      91.0  40.6\n",
      "        State  Murder  Assault  UrbanPop  Rape\n",
      "0     Alabama    13.0    236.0      58.0  21.0\n",
      "1      Alaska    10.0    166.0      48.0  44.0\n",
      "2     Arizona     8.0    294.0      80.0  31.0\n",
      "3    Arkansas     9.0    190.0      66.0  20.0\n",
      "4  California     9.0    276.0      91.0  41.0 1\n"
     ]
    }
   ],
   "source": [
    "print(cdata.head())\n",
    "print(round(crime_data.head()),1)## Method is same as that of imputer"
   ]
  },
  {
   "cell_type": "markdown",
   "metadata": {
    "colab_type": "text",
    "id": "NlEz_W1CC1Ab"
   },
   "source": [
    "#### Elbow method to find best K for kmeans clustering"
   ]
  },
  {
   "cell_type": "code",
   "execution_count": 39,
   "metadata": {
    "colab": {
     "autoexec": {
      "startup": false,
      "wait_interval": 0
     }
    },
    "colab_type": "code",
    "collapsed": true,
    "id": "Itt1U8cfC1Ac"
   },
   "outputs": [],
   "source": [
    "# k-means cluster analysis for 1-15 clusters                                              \n",
    "from scipy.spatial.distance import cdist\n",
    "clusters=range(1,15)\n",
    "ssw=[]\n",
    "\n",
    "# loop through each cluster and fit the model to the data set\n",
    "# generate the predicted cluster assingment and append the mean \n",
    "# distance my taking the sum divided by the shape\n",
    "\n",
    "for k in clusters:\n",
    "    model=KMeans(n_clusters=k,init=\"k-means++\",n_init=10, max_iter=300, random_state=0)\n",
    "    model.fit(crime_data.iloc[:,1:4])\n",
    "    ssw.append(model.inertia_/100)\n",
    "    "
   ]
  },
  {
   "cell_type": "code",
   "execution_count": 40,
   "metadata": {
    "colab": {
     "autoexec": {
      "startup": false,
      "wait_interval": 0
     },
     "base_uri": "https://localhost:8080/",
     "height": 467
    },
    "colab_type": "code",
    "executionInfo": {
     "elapsed": 952,
     "status": "ok",
     "timestamp": 1531495560506,
     "user": {
      "displayName": "Rakesh Mondal",
      "photoUrl": "https://lh3.googleusercontent.com/a/default-user=s128",
      "userId": "104471974967231090859"
     },
     "user_tz": -330
    },
    "id": "P1ahYQ0hx0Hm",
    "outputId": "df49472e-cab3-48c9-8ba9-086887c3a0a4"
   },
   "outputs": [
    {
     "data": {
      "text/html": [
       "<div>\n",
       "<style>\n",
       "    .dataframe thead tr:only-child th {\n",
       "        text-align: right;\n",
       "    }\n",
       "\n",
       "    .dataframe thead th {\n",
       "        text-align: left;\n",
       "    }\n",
       "\n",
       "    .dataframe tbody tr th {\n",
       "        vertical-align: top;\n",
       "    }\n",
       "</style>\n",
       "<table border=\"1\" class=\"dataframe\">\n",
       "  <thead>\n",
       "    <tr style=\"text-align: right;\">\n",
       "      <th></th>\n",
       "      <th>SSW</th>\n",
       "      <th>no.clusters</th>\n",
       "    </tr>\n",
       "  </thead>\n",
       "  <tbody>\n",
       "    <tr>\n",
       "      <th>0</th>\n",
       "      <td>3336.570411</td>\n",
       "      <td>1</td>\n",
       "    </tr>\n",
       "    <tr>\n",
       "      <th>1</th>\n",
       "      <td>991.904375</td>\n",
       "      <td>2</td>\n",
       "    </tr>\n",
       "    <tr>\n",
       "      <th>2</th>\n",
       "      <td>426.098768</td>\n",
       "      <td>3</td>\n",
       "    </tr>\n",
       "    <tr>\n",
       "      <th>3</th>\n",
       "      <td>295.449950</td>\n",
       "      <td>4</td>\n",
       "    </tr>\n",
       "    <tr>\n",
       "      <th>4</th>\n",
       "      <td>197.927980</td>\n",
       "      <td>5</td>\n",
       "    </tr>\n",
       "    <tr>\n",
       "      <th>5</th>\n",
       "      <td>159.483593</td>\n",
       "      <td>6</td>\n",
       "    </tr>\n",
       "    <tr>\n",
       "      <th>6</th>\n",
       "      <td>127.864097</td>\n",
       "      <td>7</td>\n",
       "    </tr>\n",
       "    <tr>\n",
       "      <th>7</th>\n",
       "      <td>106.864304</td>\n",
       "      <td>8</td>\n",
       "    </tr>\n",
       "    <tr>\n",
       "      <th>8</th>\n",
       "      <td>93.457370</td>\n",
       "      <td>9</td>\n",
       "    </tr>\n",
       "    <tr>\n",
       "      <th>9</th>\n",
       "      <td>77.223596</td>\n",
       "      <td>10</td>\n",
       "    </tr>\n",
       "    <tr>\n",
       "      <th>10</th>\n",
       "      <td>69.409901</td>\n",
       "      <td>11</td>\n",
       "    </tr>\n",
       "    <tr>\n",
       "      <th>11</th>\n",
       "      <td>62.589870</td>\n",
       "      <td>12</td>\n",
       "    </tr>\n",
       "    <tr>\n",
       "      <th>12</th>\n",
       "      <td>56.323048</td>\n",
       "      <td>13</td>\n",
       "    </tr>\n",
       "    <tr>\n",
       "      <th>13</th>\n",
       "      <td>47.023924</td>\n",
       "      <td>14</td>\n",
       "    </tr>\n",
       "  </tbody>\n",
       "</table>\n",
       "</div>"
      ],
      "text/plain": [
       "            SSW  no.clusters\n",
       "0   3336.570411            1\n",
       "1    991.904375            2\n",
       "2    426.098768            3\n",
       "3    295.449950            4\n",
       "4    197.927980            5\n",
       "5    159.483593            6\n",
       "6    127.864097            7\n",
       "7    106.864304            8\n",
       "8     93.457370            9\n",
       "9     77.223596           10\n",
       "10    69.409901           11\n",
       "11    62.589870           12\n",
       "12    56.323048           13\n",
       "13    47.023924           14"
      ]
     },
     "execution_count": 40,
     "metadata": {},
     "output_type": "execute_result"
    }
   ],
   "source": [
    "clusters_pivot=pd.DataFrame({\"no.clusters\":clusters,\"SSW\":ssw})\n",
    "clusters_pivot"
   ]
  },
  {
   "cell_type": "code",
   "execution_count": 41,
   "metadata": {
    "colab": {
     "autoexec": {
      "startup": false,
      "wait_interval": 0
     },
     "base_uri": "https://localhost:8080/",
     "height": 512
    },
    "colab_type": "code",
    "executionInfo": {
     "elapsed": 925,
     "status": "ok",
     "timestamp": 1531495734586,
     "user": {
      "displayName": "Rakesh Mondal",
      "photoUrl": "https://lh3.googleusercontent.com/a/default-user=s128",
      "userId": "104471974967231090859"
     },
     "user_tz": -330
    },
    "id": "8TrNdqsCC1Ad",
    "outputId": "214af3ba-9e60-45c9-c641-34c71748e695"
   },
   "outputs": [
    {
     "data": {
      "image/png": "[encoded data removed]",
      "text/plain": [
       "<matplotlib.figure.Figure at 0x1735b040240>"
      ]
     },
     "metadata": {},
     "output_type": "display_data"
    }
   ],
   "source": [
    "#Plot average distance from observations from the cluster centroid\n",
    "#to use the Elbow Method to identify number of clusters to choose\n",
    "plt.figure(figsize=(10,8))\n",
    "plt.plot(ssw,marker = \"o\",color=\"teal\")\n",
    "plt.xlabel('Number of clusters')\n",
    "plt.ylabel('SSW')\n",
    "plt.title('Selecting k with the Elbow Method') \n",
    "plt.show()\n",
    "# pick the fewest number of clusters that reduces the average distance\n",
    "# If you observe after 3 we can see graph is almost linear"
   ]
  },
  {
   "cell_type": "markdown",
   "metadata": {
    "colab_type": "text",
    "id": "thwOdSjdC1Ag"
   },
   "source": [
    "**Observations:** If you see after cluster 3, there is no variation. Hence from the above graph, it is evident that the best k is 3. "
   ]
  },
  {
   "cell_type": "markdown",
   "metadata": {
    "colab_type": "text",
    "id": "A2A8DHVAC1Ah"
   },
   "source": [
    "#### K-means clustering K=3<a name='kc'></a>"
   ]
  },
  {
   "cell_type": "code",
   "execution_count": 42,
   "metadata": {
    "colab": {
     "autoexec": {
      "startup": false,
      "wait_interval": 0
     },
     "base_uri": "https://localhost:8080/",
     "height": 70
    },
    "colab_type": "code",
    "executionInfo": {
     "elapsed": 1034,
     "status": "ok",
     "timestamp": 1531496067522,
     "user": {
      "displayName": "Rakesh Mondal",
      "photoUrl": "https://lh3.googleusercontent.com/a/default-user=s128",
      "userId": "104471974967231090859"
     },
     "user_tz": -330
    },
    "id": "xZlIYtNOC1Ah",
    "outputId": "128d855f-f2ab-417e-9de2-cd8dfa553d66"
   },
   "outputs": [
    {
     "data": {
      "text/plain": [
       "KMeans(algorithm='auto', copy_x=True, init='k-means++', max_iter=300,\n",
       "    n_clusters=3, n_init=10, n_jobs=1, precompute_distances='auto',\n",
       "    random_state=None, tol=0.0001, verbose=0)"
      ]
     },
     "execution_count": 42,
     "metadata": {},
     "output_type": "execute_result"
    }
   ],
   "source": [
    "from sklearn.cluster import KMeans\n",
    "kmeans = KMeans(n_clusters=3)\n",
    "kmeans.fit(crime_data.iloc[:,1:])"
   ]
  },
  {
   "cell_type": "code",
   "execution_count": 43,
   "metadata": {
    "colab": {
     "autoexec": {
      "startup": false,
      "wait_interval": 0
     },
     "base_uri": "https://localhost:8080/",
     "height": 105
    },
    "colab_type": "code",
    "executionInfo": {
     "elapsed": 957,
     "status": "ok",
     "timestamp": 1531496211382,
     "user": {
      "displayName": "Rakesh Mondal",
      "photoUrl": "https://lh3.googleusercontent.com/a/default-user=s128",
      "userId": "104471974967231090859"
     },
     "user_tz": -330
    },
    "id": "6rNAyOTUC1Ak",
    "outputId": "3cccab5c-c586-482d-a6e8-18e8d6ad7e38"
   },
   "outputs": [
    {
     "name": "stdout",
     "output_type": "stream",
     "text": [
      "[1 0 1 0 1 0 2 1 1 0 2 2 1 2 2 2 2 0 2 1 0 1 2 1 0 2 2 1 2 0 1 1 1 2 2 0 0\n",
      " 2 0 1 2 0 0 2 2 0 0 2 2 0]\n",
      "[[   8.775       169.6143617    69.01630435   23.83829787]\n",
      " [  11.82053571  274.92857143   69.92857143   27.66428571]\n",
      " [   4.174375     87.55         59.75         14.3462766 ]]\n"
     ]
    }
   ],
   "source": [
    "cluster=kmeans.labels_\n",
    "print(cluster)\n",
    "print(kmeans.cluster_centers_)"
   ]
  },
  {
   "cell_type": "code",
   "execution_count": 44,
   "metadata": {
    "colab": {
     "autoexec": {
      "startup": false,
      "wait_interval": 0
     },
     "base_uri": "https://localhost:8080/",
     "height": 230
    },
    "colab_type": "code",
    "executionInfo": {
     "elapsed": 1030,
     "status": "ok",
     "timestamp": 1531496389368,
     "user": {
      "displayName": "Rakesh Mondal",
      "photoUrl": "https://lh3.googleusercontent.com/a/default-user=s128",
      "userId": "104471974967231090859"
     },
     "user_tz": -330
    },
    "id": "1g_2kCetSS2F",
    "outputId": "0c61cdb5-c86e-436a-edb2-a6da2c860103"
   },
   "outputs": [
    {
     "name": "stdout",
     "output_type": "stream",
     "text": [
      "        State  Murder  Assault  UrbanPop  Rape  cluster\n",
      "0     Alabama    13.2    236.0      58.0  21.2        1\n",
      "1      Alaska    10.0    166.3      48.0  44.5        0\n",
      "2     Arizona     8.1    294.0      80.0  31.0        1\n",
      "3    Arkansas     8.8    190.0      65.6  19.5        0\n",
      "4  California     9.0    276.0      91.0  40.6        1\n",
      "            State  Murder  Assault  UrbanPop  Rape  cluster\n",
      "45       Virginia     8.5    156.0      63.0  20.7        0\n",
      "46     Washington     4.0    145.0      73.0  21.1        0\n",
      "47  West Virginia     5.7     81.0      39.0   9.3        2\n",
      "48      Wisconsin     2.6     53.0      66.0  10.8        2\n",
      "49        Wyoming     6.8    161.0      60.0  15.6        0\n"
     ]
    }
   ],
   "source": [
    "crime_data['cluster']=cluster\n",
    "crime_data=round(crime_data,1)\n",
    "print(crime_data.head())\n",
    "print(crime_data.tail())"
   ]
  },
  {
   "cell_type": "code",
   "execution_count": 45,
   "metadata": {
    "colab": {
     "autoexec": {
      "startup": false,
      "wait_interval": 0
     },
     "base_uri": "https://localhost:8080/",
     "height": 105
    },
    "colab_type": "code",
    "executionInfo": {
     "elapsed": 989,
     "status": "ok",
     "timestamp": 1531496979609,
     "user": {
      "displayName": "Rakesh Mondal",
      "photoUrl": "https://lh3.googleusercontent.com/a/default-user=s128",
      "userId": "104471974967231090859"
     },
     "user_tz": -330
    },
    "id": "KSOHJ8zHTJbP",
    "outputId": "27234d8c-8aed-49f2-c9b6-e80566ab560f"
   },
   "outputs": [
    {
     "name": "stdout",
     "output_type": "stream",
     "text": [
      "cluster\n",
      "0    16\n",
      "1    14\n",
      "2    20\n",
      "dtype: int64\n"
     ]
    }
   ],
   "source": [
    "cluster_size=crime_data.groupby(['cluster']).size()\n",
    "print(cluster_size)"
   ]
  },
  {
   "cell_type": "code",
   "execution_count": 46,
   "metadata": {
    "colab": {
     "autoexec": {
      "startup": false,
      "wait_interval": 0
     },
     "base_uri": "https://localhost:8080/",
     "height": 87
    },
    "colab_type": "code",
    "executionInfo": {
     "elapsed": 917,
     "status": "ok",
     "timestamp": 1531497041938,
     "user": {
      "displayName": "Rakesh Mondal",
      "photoUrl": "https://lh3.googleusercontent.com/a/default-user=s128",
      "userId": "104471974967231090859"
     },
     "user_tz": -330
    },
    "id": "K6q7x9o5T3ll",
    "outputId": "62785263-f1a7-48d5-f18c-01baea2d3384"
   },
   "outputs": [
    {
     "name": "stdout",
     "output_type": "stream",
     "text": [
      "      Murder     Assault   Urbanpop       Rape\n",
      "0   8.775000  169.614362  69.016304  23.838298\n",
      "1  11.820536  274.928571  69.928571  27.664286\n",
      "2   4.174375   87.550000  59.750000  14.346277\n"
     ]
    }
   ],
   "source": [
    "name=[\"Murder\",\"Assault\",\"Urbanpop\",\"Rape\"]\n",
    "centroids=kmeans.cluster_centers_\n",
    "cluster_centriods=pd.DataFrame(centroids,columns=name)\n",
    "print(cluster_centriods)"
   ]
  },
  {
   "cell_type": "code",
   "execution_count": 53,
   "metadata": {
    "colab": {
     "autoexec": {
      "startup": false,
      "wait_interval": 0
     }
    },
    "colab_type": "code",
    "id": "vGvYi6OJC1An"
   },
   "outputs": [
    {
     "ename": "TypeError",
     "evalue": "unhashable type: 'slice'",
     "output_type": "error",
     "traceback": [
      "\u001b[1;31m---------------------------------------------------------------------------\u001b[0m",
      "\u001b[1;31mTypeError\u001b[0m                                 Traceback (most recent call last)",
      "\u001b[1;32m<ipython-input-53-1918a538bfb6>\u001b[0m in \u001b[0;36m<module>\u001b[1;34m()\u001b[0m\n\u001b[1;32m----> 1\u001b[1;33m \u001b[0mscatt\u001b[0m \u001b[1;33m=\u001b[0m \u001b[0mplt\u001b[0m\u001b[1;33m.\u001b[0m\u001b[0mscatter\u001b[0m\u001b[1;33m(\u001b[0m\u001b[0mcrime_data\u001b[0m\u001b[1;33m[\u001b[0m\u001b[1;33m:\u001b[0m\u001b[1;33m,\u001b[0m \u001b[1;36m0\u001b[0m\u001b[1;33m]\u001b[0m\u001b[1;33m,\u001b[0m \u001b[0mcrime_data\u001b[0m\u001b[1;33m[\u001b[0m\u001b[1;33m:\u001b[0m\u001b[1;33m,\u001b[0m \u001b[1;36m3\u001b[0m\u001b[1;33m]\u001b[0m\u001b[1;33m,\u001b[0m \u001b[0mc\u001b[0m\u001b[1;33m=\u001b[0m\u001b[0mkmeans\u001b[0m\u001b[1;33m,\u001b[0m \u001b[0ms\u001b[0m\u001b[1;33m=\u001b[0m\u001b[1;36m50\u001b[0m\u001b[1;33m,\u001b[0m \u001b[0mcmap\u001b[0m\u001b[1;33m=\u001b[0m\u001b[1;34m'viridis'\u001b[0m\u001b[1;33m)\u001b[0m\u001b[1;33m\u001b[0m\u001b[0m\n\u001b[0m\u001b[0;32m      2\u001b[0m \u001b[0mcenters\u001b[0m \u001b[1;33m=\u001b[0m \u001b[0mkmeans\u001b[0m\u001b[1;33m.\u001b[0m\u001b[0mcluster_centers_\u001b[0m\u001b[1;33m\u001b[0m\u001b[0m\n\u001b[0;32m      3\u001b[0m \u001b[0mplt\u001b[0m\u001b[1;33m.\u001b[0m\u001b[0mscatter\u001b[0m\u001b[1;33m(\u001b[0m\u001b[0mcenters\u001b[0m\u001b[1;33m[\u001b[0m\u001b[1;33m:\u001b[0m\u001b[1;33m,\u001b[0m \u001b[1;36m0\u001b[0m\u001b[1;33m]\u001b[0m\u001b[1;33m,\u001b[0m \u001b[0mcenters\u001b[0m\u001b[1;33m[\u001b[0m\u001b[1;33m:\u001b[0m\u001b[1;33m,\u001b[0m \u001b[1;36m3\u001b[0m\u001b[1;33m]\u001b[0m\u001b[1;33m,\u001b[0m \u001b[0mc\u001b[0m\u001b[1;33m=\u001b[0m\u001b[1;34m'black'\u001b[0m\u001b[1;33m,\u001b[0m \u001b[0ms\u001b[0m\u001b[1;33m=\u001b[0m\u001b[1;36m200\u001b[0m\u001b[1;33m,\u001b[0m \u001b[0malpha\u001b[0m\u001b[1;33m=\u001b[0m\u001b[1;36m0.5\u001b[0m\u001b[1;33m)\u001b[0m\u001b[1;33m;\u001b[0m\u001b[1;33m\u001b[0m\u001b[0m\n\u001b[0;32m      4\u001b[0m \u001b[0mplt\u001b[0m\u001b[1;33m.\u001b[0m\u001b[0mcolorbar\u001b[0m\u001b[1;33m(\u001b[0m\u001b[0mscatt\u001b[0m\u001b[1;33m)\u001b[0m\u001b[1;33m\u001b[0m\u001b[0m\n",
      "\u001b[1;32m~\\Anaconda3\\lib\\site-packages\\pandas\\core\\frame.py\u001b[0m in \u001b[0;36m__getitem__\u001b[1;34m(self, key)\u001b[0m\n\u001b[0;32m   1962\u001b[0m             \u001b[1;32mreturn\u001b[0m \u001b[0mself\u001b[0m\u001b[1;33m.\u001b[0m\u001b[0m_getitem_multilevel\u001b[0m\u001b[1;33m(\u001b[0m\u001b[0mkey\u001b[0m\u001b[1;33m)\u001b[0m\u001b[1;33m\u001b[0m\u001b[0m\n\u001b[0;32m   1963\u001b[0m         \u001b[1;32melse\u001b[0m\u001b[1;33m:\u001b[0m\u001b[1;33m\u001b[0m\u001b[0m\n\u001b[1;32m-> 1964\u001b[1;33m             \u001b[1;32mreturn\u001b[0m \u001b[0mself\u001b[0m\u001b[1;33m.\u001b[0m\u001b[0m_getitem_column\u001b[0m\u001b[1;33m(\u001b[0m\u001b[0mkey\u001b[0m\u001b[1;33m)\u001b[0m\u001b[1;33m\u001b[0m\u001b[0m\n\u001b[0m\u001b[0;32m   1965\u001b[0m \u001b[1;33m\u001b[0m\u001b[0m\n\u001b[0;32m   1966\u001b[0m     \u001b[1;32mdef\u001b[0m \u001b[0m_getitem_column\u001b[0m\u001b[1;33m(\u001b[0m\u001b[0mself\u001b[0m\u001b[1;33m,\u001b[0m \u001b[0mkey\u001b[0m\u001b[1;33m)\u001b[0m\u001b[1;33m:\u001b[0m\u001b[1;33m\u001b[0m\u001b[0m\n",
      "\u001b[1;32m~\\Anaconda3\\lib\\site-packages\\pandas\\core\\frame.py\u001b[0m in \u001b[0;36m_getitem_column\u001b[1;34m(self, key)\u001b[0m\n\u001b[0;32m   1969\u001b[0m         \u001b[1;31m# get column\u001b[0m\u001b[1;33m\u001b[0m\u001b[1;33m\u001b[0m\u001b[0m\n\u001b[0;32m   1970\u001b[0m         \u001b[1;32mif\u001b[0m \u001b[0mself\u001b[0m\u001b[1;33m.\u001b[0m\u001b[0mcolumns\u001b[0m\u001b[1;33m.\u001b[0m\u001b[0mis_unique\u001b[0m\u001b[1;33m:\u001b[0m\u001b[1;33m\u001b[0m\u001b[0m\n\u001b[1;32m-> 1971\u001b[1;33m             \u001b[1;32mreturn\u001b[0m \u001b[0mself\u001b[0m\u001b[1;33m.\u001b[0m\u001b[0m_get_item_cache\u001b[0m\u001b[1;33m(\u001b[0m\u001b[0mkey\u001b[0m\u001b[1;33m)\u001b[0m\u001b[1;33m\u001b[0m\u001b[0m\n\u001b[0m\u001b[0;32m   1972\u001b[0m \u001b[1;33m\u001b[0m\u001b[0m\n\u001b[0;32m   1973\u001b[0m         \u001b[1;31m# duplicate columns & possible reduce dimensionality\u001b[0m\u001b[1;33m\u001b[0m\u001b[1;33m\u001b[0m\u001b[0m\n",
      "\u001b[1;32m~\\Anaconda3\\lib\\site-packages\\pandas\\core\\generic.py\u001b[0m in \u001b[0;36m_get_item_cache\u001b[1;34m(self, item)\u001b[0m\n\u001b[0;32m   1641\u001b[0m         \u001b[1;34m\"\"\"Return the cached item, item represents a label indexer.\"\"\"\u001b[0m\u001b[1;33m\u001b[0m\u001b[0m\n\u001b[0;32m   1642\u001b[0m         \u001b[0mcache\u001b[0m \u001b[1;33m=\u001b[0m \u001b[0mself\u001b[0m\u001b[1;33m.\u001b[0m\u001b[0m_item_cache\u001b[0m\u001b[1;33m\u001b[0m\u001b[0m\n\u001b[1;32m-> 1643\u001b[1;33m         \u001b[0mres\u001b[0m \u001b[1;33m=\u001b[0m \u001b[0mcache\u001b[0m\u001b[1;33m.\u001b[0m\u001b[0mget\u001b[0m\u001b[1;33m(\u001b[0m\u001b[0mitem\u001b[0m\u001b[1;33m)\u001b[0m\u001b[1;33m\u001b[0m\u001b[0m\n\u001b[0m\u001b[0;32m   1644\u001b[0m         \u001b[1;32mif\u001b[0m \u001b[0mres\u001b[0m \u001b[1;32mis\u001b[0m \u001b[1;32mNone\u001b[0m\u001b[1;33m:\u001b[0m\u001b[1;33m\u001b[0m\u001b[0m\n\u001b[0;32m   1645\u001b[0m             \u001b[0mvalues\u001b[0m \u001b[1;33m=\u001b[0m \u001b[0mself\u001b[0m\u001b[1;33m.\u001b[0m\u001b[0m_data\u001b[0m\u001b[1;33m.\u001b[0m\u001b[0mget\u001b[0m\u001b[1;33m(\u001b[0m\u001b[0mitem\u001b[0m\u001b[1;33m)\u001b[0m\u001b[1;33m\u001b[0m\u001b[0m\n",
      "\u001b[1;31mTypeError\u001b[0m: unhashable type: 'slice'"
     ]
    }
   ],
   "source": [
    "scatt = plt.scatter(crime_data[:, 0], crime_data[:, 3], c=kmeans, s=50, cmap='viridis')\n",
    "centers = kmeans.cluster_centers_\n",
    "plt.scatter(centers[:, 0], centers[:, 3], c='black', s=200, alpha=0.5);\n",
    "plt.colorbar(scatt)"
   ]
  },
  {
   "cell_type": "markdown",
   "metadata": {
    "colab_type": "text",
    "id": "Ju2sSa1NC1Ao"
   },
   "source": [
    "**Observations:** From the above graph, both the clusters are equally high with crime activites."
   ]
  },
  {
   "cell_type": "markdown",
   "metadata": {
    "colab_type": "text",
    "id": "T2kKQSrXC1Ap"
   },
   "source": [
    "#### K-means clustering K=4"
   ]
  },
  {
   "cell_type": "code",
   "execution_count": 21,
   "metadata": {
    "colab": {
     "autoexec": {
      "startup": false,
      "wait_interval": 0
     }
    },
    "colab_type": "code",
    "collapsed": true,
    "id": "3J5vCJEaC1Aq"
   },
   "outputs": [],
   "source": [
    "#kmeans1 = KMeans(n_clusters=4)\n",
    "#kmeans1.fit(num_data)\n",
    "#y_kmeans1 = kmeans1.predict(train)"
   ]
  },
  {
   "cell_type": "code",
   "execution_count": 22,
   "metadata": {
    "colab": {
     "autoexec": {
      "startup": false,
      "wait_interval": 0
     }
    },
    "colab_type": "code",
    "collapsed": true,
    "id": "xcysjlCyr3iH"
   },
   "outputs": [],
   "source": [
    "#kmeans1.cluster_centers_"
   ]
  },
  {
   "cell_type": "code",
   "execution_count": 23,
   "metadata": {
    "colab": {
     "autoexec": {
      "startup": false,
      "wait_interval": 0
     }
    },
    "colab_type": "code",
    "collapsed": true,
    "id": "fd5SaD-5C1Ar"
   },
   "outputs": [],
   "source": [
    "#scatter = plt.scatter(train[:, 0], train[:, 3], c=y_kmeans1, s=50, cmap='viridis')\n",
    "#centers = kmeans.cluster_centers_\n",
    "#plt.scatter(centers[:, 0], centers[:, 3], c='black', s=200, alpha=0.5);\n",
    "#plt.colorbar(scatter)"
   ]
  },
  {
   "cell_type": "markdown",
   "metadata": {
    "colab_type": "text",
    "id": "S4Y1wlcdC1Ay"
   },
   "source": [
    "**Observations:** <br/>\n",
    "From the above graph, it is now clear that cluster 0 and 2 are highly crime happening areas.. Need to focus on those areas to reduce crime activity.\n"
   ]
  },
  {
   "cell_type": "code",
   "execution_count": null,
   "metadata": {
    "collapsed": true
   },
   "outputs": [],
   "source": []
  },
  {
   "cell_type": "code",
   "execution_count": null,
   "metadata": {
    "collapsed": true
   },
   "outputs": [],
   "source": []
  },
  {
   "cell_type": "code",
   "execution_count": null,
   "metadata": {
    "collapsed": true
   },
   "outputs": [],
   "source": []
  },
  {
   "cell_type": "code",
   "execution_count": null,
   "metadata": {
    "collapsed": true
   },
   "outputs": [],
   "source": []
  },
  {
   "cell_type": "code",
   "execution_count": null,
   "metadata": {
    "collapsed": true
   },
   "outputs": [],
   "source": []
  }
 ],
 "metadata": {
  "colab": {
   "default_view": {},
   "name": "Crime_Data.ipynb",
   "provenance": [],
   "version": "0.3.2",
   "views": {}
  },
  "kernelspec": {
   "display_name": "Python 3",
   "language": "python",
   "name": "python3"
  },
  "language_info": {
   "codemirror_mode": {
    "name": "ipython",
    "version": 3
   },
   "file_extension": ".py",
   "mimetype": "text/x-python",
   "name": "python",
   "nbconvert_exporter": "python",
   "pygments_lexer": "ipython3",
   "version": "3.6.5"
  }
 },
 "nbformat": 4,
 "nbformat_minor": 1
}
